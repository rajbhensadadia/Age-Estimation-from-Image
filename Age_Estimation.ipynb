{
 "cells": [
  {
   "cell_type": "code",
   "execution_count": null,
   "metadata": {
    "collapsed": true
   },
   "outputs": [],
   "source": [
    "import os\n",
    "import numpy as np\n",
    "import cv2\n",
    "import dlib\n",
    "import sys\n",
    "\n",
    "folder = \"D:\\SEMESTER 6\\MachineLearning\\wiki_crop\\wiki_crop\\Top10\"\n",
    "temp = \"D:\\SEMESTER 6\\MachineLearning\\wiki_crop\\wiki_crop\\Top10_1\"\n",
    "for filename in os.listdir(folder):\n",
    "    img = cv2.imread(os.path.join(folder,filename))\n",
    "    img = np.array(img)\n",
    "    \n",
    "    face_detector = dlib.get_frontal_face_detector()\n",
    "    detected_face = face_detector(img)\n",
    "\n",
    "    try:\n",
    "        left = detected_face[0].left()\n",
    "\n",
    "    except IndexError:\n",
    "        a=5\n",
    "    else:\n",
    "        top = detected_face[0].top()\n",
    "        right = detected_face[0].right()\n",
    "        bottom = detected_face[0].bottom()\n",
    "        cropped_img = img[top:bottom, left:right, :].copy()\n",
    "        cv2.imwrite(folder+'/'+filename,cropped_img)\n",
    "    \n",
    "        if (img.size != 3):\n",
    "            start = '_'\n",
    "            end = '-'\n",
    "            birth = (filename.split(start))[1].split(end)[0]\n",
    "\n",
    "            today = filename[-8:-4]\n",
    "\n",
    "            age = int(today) - int(birth)\n",
    "\n",
    "            if age > 0 :\n",
    "                age = str(age)\n",
    "\n",
    "                directory = temp+'/'+age\n",
    "                if not os.path.exists(directory):\n",
    "                    os.makedirs(directory)\n",
    "\n",
    "                os.rename(folder+'/'+filename, temp+'/'+age+'/'+filename[0:-5]+'('+age+')'+filename[-4:])\n"
   ]
  },
  {
   "cell_type": "code",
   "execution_count": 2,
   "metadata": {
    "collapsed": true
   },
   "outputs": [],
   "source": [
    "import numpy as np\n",
    "import os\n",
    "import cv2\n",
    "dataSet = []\n",
    "age = []\n",
    "\n",
    "count = 0\n",
    "\n",
    "folder = \"D:\\SEMESTER 6\\MachineLearning\\wiki_crop\\wiki_crop\\Top10_1\"\n",
    "for foldername in os.listdir(folder):\n",
    "#     foldername = '\\0'\n",
    "    count = int(foldername)\n",
    "#     print(count)\n",
    "    foldername = 'D:\\SEMESTER 6\\MachineLearning\\wiki_crop\\wiki_crop\\Top10_1\\\\' + foldername \n",
    "    for filename in os.listdir(foldername):\n",
    "        img = cv2.imread(os.path.join(foldername,filename))\n",
    "        img = cv2.cvtColor(img, cv2.COLOR_RGB2GRAY)\n",
    "        img = cv2.resize(img, (50,50))\n",
    "#         img = cv2.equalizeHist(img)\n",
    "        img = np.ravel(img)\n",
    "        if img is not None:\n",
    "#             numbers = count\n",
    "            age.append(count)\n",
    "#             print(numbers)\n",
    "            dataSet.append(img)\n"
   ]
  },
  {
   "cell_type": "code",
   "execution_count": 3,
   "metadata": {},
   "outputs": [
    {
     "data": {
      "text/plain": [
       "(3424, 2500)"
      ]
     },
     "execution_count": 3,
     "metadata": {},
     "output_type": "execute_result"
    }
   ],
   "source": [
    "dataSet = np.array(dataSet)\n",
    "dataSet.shape"
   ]
  },
  {
   "cell_type": "code",
   "execution_count": 4,
   "metadata": {},
   "outputs": [
    {
     "data": {
      "text/plain": [
       "3424"
      ]
     },
     "execution_count": 4,
     "metadata": {},
     "output_type": "execute_result"
    }
   ],
   "source": [
    "age = np.array(age)\n",
    "age.size"
   ]
  },
  {
   "cell_type": "code",
   "execution_count": 5,
   "metadata": {},
   "outputs": [
    {
     "name": "stderr",
     "output_type": "stream",
     "text": [
      "C:\\Users\\Jeet J\\Anaconda3\\lib\\site-packages\\sklearn\\cross_validation.py:41: DeprecationWarning: This module was deprecated in version 0.18 in favor of the model_selection module into which all the refactored classes and functions are moved. Also note that the interface of the new CV iterators are different from that of this module. This module will be removed in 0.20.\n",
      "  \"This module will be removed in 0.20.\", DeprecationWarning)\n"
     ]
    }
   ],
   "source": [
    "import matplotlib.pyplot as plt\n",
    "from sklearn.preprocessing import StandardScaler\n",
    "from sklearn.decomposition import PCA\n",
    "from sklearn.cross_validation import train_test_split\n",
    "\n",
    "X_train, X_test, Y_train, Y_test = train_test_split(dataSet, age, test_size = 0.2, random_state=13)\n",
    "X_train = X_train/255\n",
    "X_test = X_test/255\n",
    "\n",
    "# scalar = StandardScaler()\n",
    "# scalar.fit(X_train)\n",
    "# X_sc_train = scalar.transform(X_train)\n",
    "# X_sc_test = scalar.transform(X_test)"
   ]
  },
  {
   "cell_type": "code",
   "execution_count": 41,
   "metadata": {
    "collapsed": true
   },
   "outputs": [],
   "source": [
    "from lpproj import LocalityPreservingProjection\n",
    "\n",
    "lpp = LocalityPreservingProjection(n_components = 2500,n_neighbors=5)\n",
    "feature_train = lpp.fit_transform(X_train)\n",
    "feature_test = lpp.fit_transform(X_test)"
   ]
  },
  {
   "cell_type": "code",
   "execution_count": 109,
   "metadata": {
    "collapsed": true
   },
   "outputs": [],
   "source": [
    "Y_test1 = []\n",
    "Y_train1 = []\n",
    "for i in range(len(Y_test)):\n",
    "    if (Y_test[i] > 0 and Y_test[i] <= 17):\n",
    "        Y_test1.append(1)\n",
    "    elif (Y_test[i] > 17 and Y_test[i] < 46):\n",
    "        Y_test1.append(2)\n",
    "    else:\n",
    "        Y_test1.append(3)\n",
    "Y_test1 = np.array(Y_test1)\n",
    "\n",
    "for i in range(len(Y_train)):\n",
    "    if (Y_train[i] > 0 and Y_train[i] <= 17):\n",
    "        Y_train1.append(1)\n",
    "    elif (Y_train[i] > 17 and Y_train[i] < 46):\n",
    "        Y_train1.append(2)\n",
    "    else:\n",
    "        Y_train1.append(3)\n",
    "        \n",
    "Y_train1 = np.array(Y_train1)"
   ]
  },
  {
   "cell_type": "code",
   "execution_count": 110,
   "metadata": {},
   "outputs": [
    {
     "data": {
      "text/plain": [
       "array([2, 2, 2, 2, 3, 3, 2, 2, 2, 2, 2, 3, 2, 2, 3, 3, 2, 2, 2, 2, 3, 3,\n",
       "       2, 3, 3, 3, 2, 2, 2, 2, 2, 2, 2, 2, 3, 2, 3, 3, 3, 3, 2, 2, 2, 2,\n",
       "       2, 2, 3, 2, 3, 2, 2, 2, 2, 2, 3, 2, 2, 2, 2, 2, 2, 2, 2, 2, 2, 3,\n",
       "       2, 2, 2, 2, 2, 2, 2, 2, 3, 2, 2, 2, 3, 2, 2, 3, 2, 2, 2, 2, 2, 2,\n",
       "       3, 2, 3, 2, 2, 2, 2, 3, 3, 2, 2, 3])"
      ]
     },
     "execution_count": 110,
     "metadata": {},
     "output_type": "execute_result"
    }
   ],
   "source": [
    "Y_train1[0:100]"
   ]
  },
  {
   "cell_type": "code",
   "execution_count": 111,
   "metadata": {
    "scrolled": true
   },
   "outputs": [
    {
     "data": {
      "text/plain": [
       "SVC(C=1.0, cache_size=200, class_weight=None, coef0=0.0,\n",
       "  decision_function_shape='ovr', degree=3, gamma='auto', kernel='linear',\n",
       "  max_iter=-1, probability=False, random_state=None, shrinking=True,\n",
       "  tol=0.001, verbose=False)"
      ]
     },
     "execution_count": 111,
     "metadata": {},
     "output_type": "execute_result"
    }
   ],
   "source": [
    "from sklearn.svm import SVC\n",
    "clf = SVC(kernel='linear')\n",
    "clf.fit(X_train,Y_train1) "
   ]
  },
  {
   "cell_type": "code",
   "execution_count": 112,
   "metadata": {
    "collapsed": true
   },
   "outputs": [],
   "source": [
    "pred = clf.predict(X_test)"
   ]
  },
  {
   "cell_type": "code",
   "execution_count": 113,
   "metadata": {},
   "outputs": [
    {
     "data": {
      "text/plain": [
       "((2739, 2500), (685, 2500), (2739,), (685,))"
      ]
     },
     "execution_count": 113,
     "metadata": {},
     "output_type": "execute_result"
    }
   ],
   "source": [
    "X_train.shape, X_test.shape, Y_train.shape, Y_test.shape"
   ]
  },
  {
   "cell_type": "code",
   "execution_count": 114,
   "metadata": {
    "collapsed": true
   },
   "outputs": [],
   "source": [
    "result = (pred - Y_test1)"
   ]
  },
  {
   "cell_type": "code",
   "execution_count": 115,
   "metadata": {
    "collapsed": true
   },
   "outputs": [],
   "source": [
    "error = (np.count_nonzero(result)/len(pred))*100"
   ]
  },
  {
   "cell_type": "code",
   "execution_count": 116,
   "metadata": {},
   "outputs": [
    {
     "data": {
      "text/plain": [
       "37.372262773722625"
      ]
     },
     "execution_count": 116,
     "metadata": {},
     "output_type": "execute_result"
    }
   ],
   "source": [
    "error"
   ]
  },
  {
   "cell_type": "code",
   "execution_count": 117,
   "metadata": {},
   "outputs": [
    {
     "data": {
      "text/plain": [
       "array([2, 2, 2, 3, 2, 3, 2, 3, 2, 2, 2, 2, 2, 2, 2, 3, 3, 3, 3, 2, 3, 2,\n",
       "       2, 3, 2, 2, 2, 2, 2, 2, 2, 2, 3, 3, 2, 2, 2, 2, 1, 3, 2, 2, 1, 2,\n",
       "       2, 2, 3, 2, 3, 2, 2, 3, 2, 2, 2, 1, 3, 2, 3, 2, 2, 2, 2, 3, 2, 2,\n",
       "       2, 2, 2, 2, 3, 2, 2, 2, 2, 3, 2, 2, 3, 2, 2, 3, 2, 2, 3, 2, 2, 1,\n",
       "       2, 2, 3, 2, 2, 1, 2, 3, 2, 2, 2, 2, 2, 2, 3, 3, 2, 2, 2, 2, 2, 2,\n",
       "       2, 2, 2, 2, 2, 2, 2, 3, 2, 3, 2, 2, 3, 2, 2, 2, 2, 2, 2, 3, 2, 3,\n",
       "       3, 3, 2, 3, 2, 3, 2, 2, 3, 2, 2, 2, 2, 2, 2, 3, 2, 2, 3, 2, 2, 2,\n",
       "       3, 2, 3, 2, 2, 2, 2, 2, 3, 2, 2, 2, 2, 3, 2, 2, 2, 2, 2, 2, 3, 2,\n",
       "       3, 2, 3, 2, 2, 2, 2, 3, 3, 2, 3, 2, 2, 2, 3, 3, 2, 2, 2, 2, 2, 2,\n",
       "       2, 2, 2, 2, 2, 2, 2, 2, 2, 2, 3, 3, 2, 2, 2, 2, 3, 2, 2, 2, 3, 2,\n",
       "       2, 2, 2, 2, 3, 3, 1, 3, 3, 2, 2, 3, 2, 3, 2, 3, 2, 3, 3, 2, 2, 2,\n",
       "       2, 3, 2, 2, 3, 2, 2, 2, 2, 2, 1, 3, 3, 2, 2, 2, 2, 2, 2, 2, 1, 1,\n",
       "       2, 1, 3, 2, 3, 2, 2, 3, 2, 2, 3, 2, 2, 3, 3, 2, 2, 2, 3, 3, 2, 3,\n",
       "       3, 3, 2, 2, 2, 2, 3, 2, 2, 3, 3, 2, 3, 2, 3, 2, 3, 2, 2, 3, 2, 3,\n",
       "       2, 3, 3, 2, 3, 2, 2, 3, 2, 2, 2, 2, 2, 2, 2, 2, 2, 2, 2, 3, 2, 2,\n",
       "       3, 2, 2, 3, 3, 2, 2, 2, 2, 2, 3, 2, 2, 2, 2, 2, 2, 2, 2, 3, 3, 3,\n",
       "       2, 3, 2, 3, 2, 2, 2, 2, 2, 2, 2, 2, 2, 3, 2, 3, 2, 2, 2, 3, 2, 2,\n",
       "       2, 3, 2, 2, 2, 3, 2, 3, 2, 2, 2, 3, 2, 2, 2, 2, 2, 3, 2, 2, 2, 3,\n",
       "       2, 3, 2, 3, 2, 3, 3, 2, 2, 3, 2, 3, 3, 3, 2, 2, 2, 2, 3, 3, 2, 3,\n",
       "       3, 2, 2, 2, 3, 2, 2, 2, 2, 2, 1, 2, 2, 2, 3, 2, 3, 2, 2, 2, 2, 2,\n",
       "       2, 2, 2, 3, 3, 2, 3, 2, 2, 2, 2, 2, 2, 2, 2, 3, 2, 2, 2, 2, 3, 2,\n",
       "       2, 3, 2, 3, 2, 2, 2, 2, 2, 2, 2, 2, 2, 3, 2, 2, 2, 2, 2, 2, 2, 2,\n",
       "       2, 2, 2, 2, 2, 2, 2, 2, 2, 2, 3, 3, 3, 2, 3, 2, 2, 2, 2, 3, 3, 2,\n",
       "       3, 3, 3, 2, 2, 3, 2, 2, 2, 2, 2, 2, 2, 2, 2, 2, 2, 2, 3, 2, 2, 2,\n",
       "       2, 3, 2, 2, 2, 2, 2, 2, 3, 2, 3, 2, 2, 2, 2, 2, 3, 3, 2, 3, 2, 2,\n",
       "       3, 3, 2, 2, 1, 2, 3, 2, 2, 3, 3, 2, 2, 3, 2, 2, 2, 2, 2, 2, 2, 2,\n",
       "       2, 2, 3, 2, 3, 2, 2, 3, 2, 3, 2, 2, 3, 2, 2, 3, 2, 2, 2, 3, 2, 2,\n",
       "       2, 3, 2, 3, 2, 3, 2, 2, 2, 2, 3, 2, 2, 2, 2, 3, 2, 2, 2, 3, 2, 3,\n",
       "       3, 2, 3, 2, 2, 2, 2, 2, 3, 3, 2, 3, 2, 2, 3, 3, 2, 2, 2, 3, 2, 2,\n",
       "       3, 3, 2, 2, 3, 2, 2, 3, 2, 2, 2, 2, 2, 3, 2, 3, 1, 2, 2, 2, 2, 2,\n",
       "       2, 2, 2, 2, 3, 2, 3, 2, 2, 2, 2, 2, 2, 3, 2, 2, 2, 3, 2, 2, 2, 2,\n",
       "       3, 2, 2])"
      ]
     },
     "execution_count": 117,
     "metadata": {},
     "output_type": "execute_result"
    }
   ],
   "source": [
    "pred"
   ]
  },
  {
   "cell_type": "code",
   "execution_count": 140,
   "metadata": {
    "collapsed": true
   },
   "outputs": [],
   "source": [
    "img = cv2.imread('jeet.jpg')\n",
    "img = cv2.resize(img,(50,50))\n",
    "img = cv2.cvtColor(img, cv2.COLOR_RGB2GRAY)\n",
    "img = np.ravel(img)\n",
    "img = img/255\n",
    "img = img.reshape(1,-1)"
   ]
  },
  {
   "cell_type": "code",
   "execution_count": 141,
   "metadata": {
    "collapsed": true
   },
   "outputs": [],
   "source": [
    "pred = clf.predict(img)"
   ]
  },
  {
   "cell_type": "code",
   "execution_count": 142,
   "metadata": {},
   "outputs": [
    {
     "data": {
      "text/plain": [
       "array([2])"
      ]
     },
     "execution_count": 142,
     "metadata": {},
     "output_type": "execute_result"
    }
   ],
   "source": [
    "pred"
   ]
  },
  {
   "cell_type": "code",
   "execution_count": 143,
   "metadata": {},
   "outputs": [
    {
     "name": "stdout",
     "output_type": "stream",
     "text": [
      "Age Class :2 - Adult \n",
      "Age Range :18-46\n"
     ]
    },
    {
     "data": {
      "image/png": "[encoded data removed]",
      "text/plain": [
       "<matplotlib.figure.Figure at 0x25100542f98>"
      ]
     },
     "metadata": {},
     "output_type": "display_data"
    }
   ],
   "source": [
    "%matplotlib inline\n",
    "img = cv2.imread('jeet.jpg')\n",
    "plt.imshow(img)\n",
    "print('Age Class :2 - Adult \\nAge Range :18-46')"
   ]
  },
  {
   "cell_type": "code",
   "execution_count": null,
   "metadata": {
    "collapsed": true
   },
   "outputs": [],
   "source": []
  }
 ],
 "metadata": {
  "kernelspec": {
   "display_name": "Python 3",
   "language": "python",
   "name": "python3"
  },
  "language_info": {
   "codemirror_mode": {
    "name": "ipython",
    "version": 3
   },
   "file_extension": ".py",
   "mimetype": "text/x-python",
   "name": "python",
   "nbconvert_exporter": "python",
   "pygments_lexer": "ipython3",
   "version": "3.6.2"
  }
 },
 "nbformat": 4,
 "nbformat_minor": 2
}
